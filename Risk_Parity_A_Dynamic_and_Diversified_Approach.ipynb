{
  "nbformat": 4,
  "nbformat_minor": 0,
  "metadata": {
    "colab": {
      "provenance": []
    },
    "kernelspec": {
      "name": "python3",
      "display_name": "Python 3"
    },
    "language_info": {
      "name": "python"
    }
  },
  "cells": [
    {
      "cell_type": "code",
      "execution_count": 1,
      "metadata": {
        "colab": {
          "base_uri": "https://localhost:8080/"
        },
        "id": "Ox0TdhUMjoHF",
        "outputId": "f88e9c85-d690-4768-99b0-ca9640f20684"
      },
      "outputs": [
        {
          "output_type": "stream",
          "name": "stdout",
          "text": [
            "[*********************100%***********************]  5 of 5 completed\n"
          ]
        },
        {
          "output_type": "execute_result",
          "data": {
            "text/plain": [
              "AAPL       0.295403\n",
              "BTC-USD    0.134808\n",
              "ETH-USD    0.103715\n",
              "GOOGL      0.315153\n",
              "TSLA       0.150921\n",
              "dtype: float64"
            ]
          },
          "metadata": {},
          "execution_count": 1
        }
      ],
      "source": [
        "#!pip install yfinance\n",
        "import yfinance as yf\n",
        "import pandas as pd\n",
        "import numpy as np\n",
        "\n",
        "assets = ['AAPL', 'GOOGL', 'TSLA', 'BTC-USD', 'ETH-USD']\n",
        "start_date = '2018-01-01'\n",
        "end_date = '2023-01-01'\n",
        "\n",
        "data = yf.download(assets, start=start_date, end=end_date)['Adj Close']\n",
        "returns = data.pct_change().dropna()\n",
        "volatility = returns.std() * np.sqrt(252)\n",
        "risk_budget = 1 / len(assets)\n",
        "inverse_volatility = 1 / volatility\n",
        "weights = inverse_volatility / inverse_volatility.sum()\n",
        "\n",
        "weights\n"
      ]
    }
  ]
}